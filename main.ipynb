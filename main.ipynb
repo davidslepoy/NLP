{
 "cells": [
  {
   "cell_type": "markdown",
   "metadata": {},
   "source": [
    "# Trabajo Practico N°1 NLP\n",
    "Integrantes: \n",
    "1. Rodriguez y Barros, Francisco : \n",
    "2. Slepoy, David : S-5782/7"
   ]
  },
  {
   "cell_type": "markdown",
   "metadata": {},
   "source": [
    "### Importamos las librerias"
   ]
  },
  {
   "cell_type": "code",
   "execution_count": 10,
   "metadata": {},
   "outputs": [],
   "source": [
    "from sklearn.feature_extraction.text import TfidfVectorizer\n",
    "from sklearn.metrics.pairwise import cosine_similarity\n",
    "from sklearn.model_selection import train_test_split\n",
    "from sklearn.feature_extraction.text import TfidfVectorizer\n",
    "from sklearn.linear_model import LogisticRegression\n",
    "from sklearn.metrics import accuracy_score, classification_report\n",
    "import pandas as pd\n",
    "import numpy as np\n",
    "import nltk\n",
    "from nltk.corpus import stopwords"
   ]
  },
  {
   "cell_type": "code",
   "execution_count": 11,
   "metadata": {},
   "outputs": [],
   "source": [
    "juegos_df = pd.read_csv('bgg_database.csv')  # Asegúrate de que este archivo esté en el mismo directorio\n",
    "peliculas_df = pd.read_csv('IMDB-Movie-Data.csv')  # Asegúrate de que este archivo esté en el mismo directorio\n",
    "libros_df = pd.read_csv('df_libros.csv')  # Este debe ser el resultado de tu web scraping"
   ]
  },
  {
   "cell_type": "markdown",
   "metadata": {},
   "source": [
    "Elegimos para poder determinar el estado de animo del usuario. la Similitud del Coseno probablemente por su capacidad para trabajar con representaciones vectoriales del texto, ya que esta nos permitirá captar las relaciones semánticas entre el usuario y lo que nos ingrese con los diferentes estados de ánimo."
   ]
  },
  {
   "cell_type": "markdown",
   "metadata": {},
   "source": [
    "Creamos el modelo de regresion logistica"
   ]
  },
  {
   "cell_type": "code",
   "execution_count": 12,
   "metadata": {},
   "outputs": [],
   "source": [
    "spanish_stop_words = stopwords.words('spanish')"
   ]
  },
  {
   "cell_type": "code",
   "execution_count": 13,
   "metadata": {},
   "outputs": [
    {
     "name": "stdout",
     "output_type": "stream",
     "text": [
      "Precisión Regresión Logística: 0.5\n",
      "Reporte de clasificación Regresión Logística:\n",
      "               precision    recall  f1-score   support\n",
      "\n",
      "           0       1.00      0.00      0.00         2\n",
      "           1       0.33      0.50      0.40         2\n",
      "           2       0.67      1.00      0.80         2\n",
      "\n",
      "    accuracy                           0.50         6\n",
      "   macro avg       0.67      0.50      0.40         6\n",
      "weighted avg       0.67      0.50      0.40         6\n",
      "\n"
     ]
    },
    {
     "name": "stderr",
     "output_type": "stream",
     "text": [
      "c:\\Users\\david\\OneDrive\\Escritorio\\T.U.I.A\\4.2 PROCESAMIENTO DEL LENGUAJE NATURAL\\directorio\\lib\\site-packages\\sklearn\\linear_model\\_logistic.py:1247: FutureWarning: 'multi_class' was deprecated in version 1.5 and will be removed in 1.7. From then on, it will always use 'multinomial'. Leave it to its default value to avoid this warning.\n",
      "  warnings.warn(\n"
     ]
    }
   ],
   "source": [
    "# Definición de las etiquetas\n",
    "labels = {\n",
    "    0: \"Melancólico\",\n",
    "    1: \"Alegre\",\n",
    "    2: \"Ni fu ni fa\"\n",
    "}\n",
    "\n",
    "# Dataset de ejemplo\n",
    "dataset = [\n",
    "    # Ejemplos de \"Alegre\"\n",
    "    (1, \"¡Hoy es un día soleado y me siento lleno de energía!\"),\n",
    "    (1, \"Estoy emocionado porque voy a ver a mis amigos esta noche.\"),\n",
    "    (1, \"La música que escucho me hace sentir muy feliz.\"),\n",
    "    (1, \"Acabo de recibir buenas noticias, ¡qué alegría!\"),\n",
    "    (1, \"Me encanta pasear por el parque en primavera.\"),\n",
    "    (1, \"El chocolate siempre me alegra el día.\"),\n",
    "    (1, \"La sonrisa de un niño puede iluminar cualquier día.\"),\n",
    "    (1, \"¡No puedo esperar para ir a la fiesta!\"),\n",
    "    (1, \"Este libro es tan divertido que no puedo dejar de reír.\"),\n",
    "    (1, \"La compañía de mi familia siempre me hace sentir bien.\"),\n",
    "\n",
    "    # Ejemplos de \"Melancólico\"\n",
    "    (0, \"A veces me siento nostálgico al recordar viejos tiempos.\"),\n",
    "    (0, \"El clima gris de hoy refleja mi estado de ánimo.\"),\n",
    "    (0, \"Me siento triste porque extraño a un ser querido.\"),\n",
    "    (0, \"Las lágrimas caen sin que pueda controlarlas.\"),\n",
    "    (0, \"La soledad puede ser muy abrumadora a veces.\"),\n",
    "    (0, \"Recuerdo ese lugar feliz, pero ya no puedo volver.\"),\n",
    "    (0, \"Hoy es uno de esos días en los que no tengo ganas de hacer nada.\"),\n",
    "    (0, \"La canción que escucho me trae recuerdos tristes.\"),\n",
    "    (0, \"La pérdida de algo querido siempre deja un vacío.\"),\n",
    "    (0, \"Siento que todo está en silencio, como si el mundo me ignorara.\"),\n",
    "\n",
    "    # Ejemplos de \"Ni fu ni fa\"\n",
    "    (2, \"Hoy ha sido un día normal, sin nada emocionante.\"),\n",
    "    (2, \"Me siento indiferente ante las noticias que escuché.\"),\n",
    "    (2, \"No estoy ni feliz ni triste, simplemente estoy.\"),\n",
    "    (2, \"La película que vi no fue buena ni mala, solo estaba ahí.\"),\n",
    "    (2, \"El clima es aceptable, pero no me afecta mucho.\"),\n",
    "    (2, \"A veces no sé qué pensar sobre ciertas situaciones.\"),\n",
    "    (2, \"No tengo emociones fuertes sobre el evento que se viene.\"),\n",
    "    (2, \"La comida estaba bien, pero no me dejó ninguna impresión.\"),\n",
    "    (2, \"Este libro es un poco aburrido, pero lo seguiré leyendo.\"),\n",
    "    (2, \"Estoy aquí, pero no tengo ganas de hacer nada en especial.\")\n",
    "]\n",
    "\n",
    "\n",
    "# Preparar X e y\n",
    "X = [text for label, text in dataset]\n",
    "y = [label for label, text in dataset]\n",
    "\n",
    "# División del dataset\n",
    "X_train, X_test, y_train, y_test = train_test_split(X, y, test_size=0.2, random_state=42)\n",
    "\n",
    "# Vectorización de los textos con eliminación de palabras vacías\n",
    "vectorizer = TfidfVectorizer(stop_words=spanish_stop_words)\n",
    "X_train_vectorized = vectorizer.fit_transform(X_train)  # Ajusta y transforma el conjunto de entrenamiento\n",
    "X_test_vectorized = vectorizer.transform(X_test)  # Solo transforma el conjunto de prueba\n",
    "\n",
    "# Creación y entrenamiento del modelo de Regresión Logística\n",
    "modelo_LR = LogisticRegression(max_iter=1000, multi_class='multinomial', solver='lbfgs')\n",
    "modelo_LR.fit(X_train_vectorized, y_train)\n",
    "\n",
    "# Evaluación del modelo de Regresión Logística\n",
    "y_pred_LR = modelo_LR.predict(X_test_vectorized)\n",
    "acc_LR = accuracy_score(y_test, y_pred_LR)\n",
    "report_LR = classification_report(y_test, y_pred_LR, zero_division=1)\n",
    "\n",
    "print(\"Precisión Regresión Logística:\", acc_LR)\n",
    "print(\"Reporte de clasificación Regresión Logística:\\n\", report_LR)"
   ]
  },
  {
   "cell_type": "code",
   "execution_count": 14,
   "metadata": {},
   "outputs": [],
   "source": [
    "def clasificar_estado_animo(frase_usuario):\n",
    "    \"\"\"\n",
    "    Clasifica el estado de ánimo de una frase ingresada por el usuario.\n",
    "\n",
    "    Args:\n",
    "        frase_usuario (str): La frase que describe el estado de ánimo.\n",
    "\n",
    "    Returns:\n",
    "        str: El estado de ánimo clasificado (\"Melancólico\", \"Alegre\", \"Ni fu ni fa\").\n",
    "    \"\"\"\n",
    "    # Vectorizar la nueva frase\n",
    "    frase_vectorizada = vectorizer.transform([frase_usuario.lower()])  # Asegúrate de que el vectorizador esté previamente ajustado\n",
    "    # Predecir la etiqueta\n",
    "    etiqueta_predicha = modelo_LR.predict(frase_vectorizada)\n",
    "    return labels[etiqueta_predicha[0]]  # Retornar la etiqueta correspondiente\n"
   ]
  },
  {
   "cell_type": "code",
   "execution_count": 15,
   "metadata": {},
   "outputs": [],
   "source": [
    "# Función para recomendar basado en el estado de ánimo\n",
    "def recomendar(frase_usuario, estado_animo):\n",
    "    juegos_descripcion = juegos_df['description'].fillna('').tolist()\n",
    "    peliculas_descripcion = peliculas_df['Description'].fillna('').tolist()\n",
    "    libros_descripcion = libros_df['Summary'].fillna('').tolist()\n",
    "    # Vectorizar la frase ingresada por el usuario\n",
    "    frase_vectorizada = vectorizer.transform([frase_usuario.lower()])  # Solo vectorizar la frase del usuario\n",
    "\n",
    "    # Vectorizamos las descripciones también\n",
    "    juegos_vectorizados = vectorizer.transform(juegos_descripcion)\n",
    "    peliculas_vectorizados = vectorizer.transform(peliculas_descripcion)\n",
    "    libros_vectorizados = vectorizer.transform(libros_descripcion)\n",
    "\n",
    "    # Calcular similitud\n",
    "    similitudes_juegos = cosine_similarity(frase_vectorizada, juegos_vectorizados)\n",
    "    similitudes_peliculas = cosine_similarity(frase_vectorizada, peliculas_vectorizados)\n",
    "    similitudes_libros = cosine_similarity(frase_vectorizada, libros_vectorizados)\n",
    "\n",
    "    # Obtener las recomendaciones basadas en similitud\n",
    "    if estado_animo == \"Alegre\":\n",
    "        top_juegos = juegos_df.iloc[similitudes_juegos.argsort()[0][-3:]]  # Top 3 juegos\n",
    "        top_peliculas = peliculas_df.iloc[similitudes_peliculas.argsort()[0][-3:]]  # Top 3 películas\n",
    "        return top_juegos, top_peliculas\n",
    "\n",
    "    elif estado_animo == \"Melancólico\":\n",
    "        top_libros = libros_df.iloc[similitudes_libros.argsort()[0][-3:]]  # Top 3 libros\n",
    "        return top_libros,\n",
    "\n",
    "    else:  # Ni fu ni fa\n",
    "        top_juegos = juegos_df.iloc[similitudes_juegos.argsort()[0][-3:]]\n",
    "        top_libros = libros_df.iloc[similitudes_libros.argsort()[0][-3:]]\n",
    "        return top_juegos, top_libros"
   ]
  },
  {
   "cell_type": "code",
   "execution_count": 16,
   "metadata": {},
   "outputs": [
    {
     "name": "stdout",
     "output_type": "stream",
     "text": [
      "Tu estado de ánimo es: Ni fu ni fa\n",
      "Recomendaciones de Juegos:\n",
      "     rank                                        game_name  \\\n",
      "998   999                                          Qwirkle   \n",
      "999  1000  Dungeons & Dragons: Castle Ravenloft Board Game   \n",
      "0       1                                Brass: Birmingham   \n",
      "\n",
      "                                             game_href  geek_rating  \\\n",
      "998  https://boardgamegeek.com/boardgame/25669/qwirkle        6.616   \n",
      "999  https://boardgamegeek.com/boardgame/59946/dung...        6.615   \n",
      "0    https://boardgamegeek.com/boardgame/224517/bra...        8.415   \n",
      "\n",
      "     avg_rating  num_voters  \\\n",
      "998        6.77     20334.0   \n",
      "999        6.98      9290.0   \n",
      "0          8.60     46836.0   \n",
      "\n",
      "                                           description  yearpublished  \\\n",
      "998  The abstract game of Qwirkle consists of 108 w...           2006   \n",
      "999  Castle Ravenloft Boardgame by Bill Slavicsek, ...           2010   \n",
      "0    Brass: Birmingham is an economic strategy game...           2018   \n",
      "\n",
      "     minplayers  maxplayers  minplaytime  maxplaytime  minage  avgweight  \\\n",
      "998           2           4           45           45       6     1.5884   \n",
      "999           1           5           60           60      12     2.5024   \n",
      "0             2           4           60          120      14     3.8776   \n",
      "\n",
      "           best_num_players  \\\n",
      "998  [{'min': 4, 'max': 4}]   \n",
      "999  [{'min': 4, 'max': 4}]   \n",
      "0    [{'min': 3, 'max': 4}]   \n",
      "\n",
      "                                             designers  \\\n",
      "998                            ['Susan McKinley Ross']   \n",
      "999  ['Rob Heinsoo', 'Peter Lee', 'Mike Mearls', 'B...   \n",
      "0     ['Gavan Brown', 'Matt Tolman', 'Martin Wallace']   \n",
      "\n",
      "                                             mechanics  \\\n",
      "998  ['Hand Management', 'Pattern Building', 'Squar...   \n",
      "999  ['Cooperative Game', 'Dice Rolling', 'Grid Mov...   \n",
      "0    ['Hand Management', 'Income', 'Loans', 'Market...   \n",
      "\n",
      "                                            categories  \n",
      "998                              ['Abstract Strategy']  \n",
      "999  ['Adventure', 'Exploration', 'Fantasy', 'Fight...  \n",
      "0    ['Age of Reason', 'Economic', 'Industry / Manu...  \n",
      "Recomendaciones de Libros:\n",
      "                                       Title  \\\n",
      "998                                  Babbitt   \n",
      "999                                  Sophist   \n",
      "0    Frankenstein; Or, The Modern Prometheus   \n",
      "\n",
      "                                      Author  \\\n",
      "998               Lewis, Sinclair, 1885-1951   \n",
      "999                 Plato, 428? BCE-348? BCE   \n",
      "0    Shelley, Mary Wollstonecraft, 1797-1851   \n",
      "\n",
      "                                               Summary  \\\n",
      "998  Babbitt\" by Sinclair Lewis is a novel written ...   \n",
      "999  Sophist\" by Plato is a philosophical dialogue ...   \n",
      "0    Frankenstein; Or, The Modern Prometheus\" by Ma...   \n",
      "\n",
      "                                              Subjects  Release Date Language  \\\n",
      "998  Satire,Psychological fiction,Businessmen -- Fi...  Feb 11, 2002  English   \n",
      "999  Classical literature,Logic, Ancient,Ontology,S...   May 1, 1999  English   \n",
      "0    Science fiction,Horror tales,Gothic fiction,Sc...   Oct 1, 1993  English   \n",
      "\n",
      "                                       Url  \n",
      "998  https://www.gutenberg.org/ebooks/1156  \n",
      "999  https://www.gutenberg.org/ebooks/1735  \n",
      "0      https://www.gutenberg.org/ebooks/84  \n"
     ]
    }
   ],
   "source": [
    "# Ingreso de preferencias del usuario\n",
    "frase_usuario = input(\"Ingresa una frase que describa tu estado de ánimo: \")\n",
    "estado_animo = clasificar_estado_animo(frase_usuario)\n",
    "print(f\"Tu estado de ánimo es: {estado_animo}\")\n",
    "\n",
    "# Obtener recomendaciones\n",
    "recomendaciones = recomendar(frase_usuario, estado_animo)\n",
    "# Imprimir recomendaciones\n",
    "if estado_animo == \"Alegre\":\n",
    "    print(\"Recomendaciones de Juegos:\")\n",
    "    print(recomendaciones[0])\n",
    "    print(\"Recomendaciones de Películas:\")\n",
    "    print(recomendaciones[1])\n",
    "elif estado_animo == \"Melancólico\":\n",
    "    print(\"Recomendaciones de Libros:\")\n",
    "    print(recomendaciones[0])\n",
    "else:\n",
    "    print(\"Recomendaciones de Juegos:\")\n",
    "    print(recomendaciones[0])\n",
    "    print(\"Recomendaciones de Libros:\")\n",
    "    print(recomendaciones[1])\n"
   ]
  }
 ],
 "metadata": {
  "kernelspec": {
   "display_name": "directorio",
   "language": "python",
   "name": "python3"
  },
  "language_info": {
   "codemirror_mode": {
    "name": "ipython",
    "version": 3
   },
   "file_extension": ".py",
   "mimetype": "text/x-python",
   "name": "python",
   "nbconvert_exporter": "python",
   "pygments_lexer": "ipython3",
   "version": "3.10.11"
  }
 },
 "nbformat": 4,
 "nbformat_minor": 2
}
